{
 "cells": [
  {
   "cell_type": "code",
   "execution_count": 14,
   "id": "01bd5d66-ab4d-4b97-aec4-fd41f154d486",
   "metadata": {
    "tags": []
   },
   "outputs": [],
   "source": [
    "%run binance_secrets.ipynb"
   ]
  },
  {
   "cell_type": "code",
   "execution_count": 19,
   "id": "7de5378b-c84f-4742-aaaa-1b586378e962",
   "metadata": {
    "tags": []
   },
   "outputs": [
    {
     "name": "stdout",
     "output_type": "stream",
     "text": [
      "Initial Portfolio Value: 8180.369999999997\n",
      "Final Portfolio Value: 10055.179999999997\n",
      "Total Return: 22.9184010014217 %\n"
     ]
    }
   ],
   "source": [
    "import pandas as pd\n",
    "from binance.client import Client\n",
    "\n",
    "\n",
    "# Set up Binance API\n",
    "client = Client(API_KEY, API_SECRET)\n",
    "\n",
    "\n",
    "\n",
    "# Get historical price data for ETHUSDT from 2019-01-01 to 2021-01-01\n",
    "symbol = 'ETHUSDT'\n",
    "start_date = '2023-01-01'\n",
    "end_date = '2023-06-01'\n",
    "klines = client.get_historical_klines(symbol, Client.KLINE_INTERVAL_1MINUTE, start_date, end_date)\n",
    "\n",
    "# Convert klines to DataFrame\n",
    "columns = ['timestamp', 'open', 'high', 'low', 'close', 'volume', 'close_time', 'quote_asset_volume', 'num_trades', 'taker_buy_base', 'taker_buy_quote', 'ignore']\n",
    "df = pd.DataFrame(klines, columns=columns)\n",
    "df['timestamp'] = pd.to_datetime(df['timestamp'], unit='ms')\n",
    "df.set_index('timestamp', inplace=True)\n",
    "\n",
    "# Define trading parameters\n",
    "trade_size = 1  # Adjust as needed\n",
    "buy_momentum_threshold = 0.003\n",
    "sell_momentum_threshold = -0.003\n",
    "lookback_period = 60\n",
    "\n",
    "# Initialize variables\n",
    "portfolio_value = 10000  # Initial portfolio value\n",
    "position = 0  # Number of assets held\n",
    "trade_log = []  # List to store trade information\n",
    "\n",
    "# Backtest loop\n",
    "for i in range(lookback_period, len(df)):\n",
    "    past_prices = df['close'][i - lookback_period:i]\n",
    "    current_price = float(df['close'][i])\n",
    "    price_change_percentage = (float(current_price) - float(past_prices.iloc[0])) / float(past_prices.iloc[0])\n",
    "    \n",
    "    if price_change_percentage > buy_momentum_threshold and position == 0:\n",
    "        position = trade_size\n",
    "        portfolio_value -= current_price * trade_size\n",
    "        trade_log.append(('Buy', current_price))\n",
    "    elif price_change_percentage < sell_momentum_threshold and position > 0:\n",
    "        portfolio_value += current_price * position\n",
    "        position = 0\n",
    "        trade_log.append(('Sell', current_price))\n",
    "    \n",
    "# Calculate final portfolio value\n",
    "final_portfolio_value = portfolio_value + (position * current_price)\n",
    "\n",
    "# Print results\n",
    "print(\"Initial Portfolio Value:\", portfolio_value)\n",
    "print(\"Final Portfolio Value:\", final_portfolio_value)\n",
    "print(\"Total Return:\", (final_portfolio_value - portfolio_value) / portfolio_value * 100, \"%\")\n",
    "\n",
    "open(\"trade_log.txt\", \"w\").close()\n",
    "\n",
    "log_file = open(\"trade_log.txt\", \"w\")\n",
    "for log in trade_log:\n",
    "    log_file.write(f\"{log[0]} : {log[1]}\\n\")\n",
    "log_file.close()\n"
   ]
  },
  {
   "cell_type": "code",
   "execution_count": null,
   "id": "c8ccffc4-0291-4b6b-8504-ece2caf7a42f",
   "metadata": {},
   "outputs": [],
   "source": []
  }
 ],
 "metadata": {
  "kernelspec": {
   "display_name": "Python 3 (ipykernel)",
   "language": "python",
   "name": "python3"
  },
  "language_info": {
   "codemirror_mode": {
    "name": "ipython",
    "version": 3
   },
   "file_extension": ".py",
   "mimetype": "text/x-python",
   "name": "python",
   "nbconvert_exporter": "python",
   "pygments_lexer": "ipython3",
   "version": "3.11.3"
  }
 },
 "nbformat": 4,
 "nbformat_minor": 5
}
